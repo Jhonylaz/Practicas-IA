{
 "cells": [
  {
   "cell_type": "code",
   "execution_count": 1,
   "id": "0d2391f0",
   "metadata": {},
   "outputs": [],
   "source": [
    "import Connect4\n",
    "import copy"
   ]
  },
  {
   "cell_type": "code",
   "execution_count": 2,
   "id": "70ee1679",
   "metadata": {},
   "outputs": [],
   "source": [
    "def accion(val)->list:\n",
    "    if game.finished() == 0 and game.possible_plays() != []:\n",
    "        game.make_play(player1, val)  \n",
    "        return(game)\n",
    "    return(game)    "
   ]
  },
  {
   "cell_type": "code",
   "execution_count": 3,
   "id": "dc73a55c",
   "metadata": {},
   "outputs": [],
   "source": [
    "player1=True\n",
    "estado_inicial=Connect4.connect4()\n",
    "turno1=[]\n",
    "for i in range(0,7):\n",
    "    game =copy.deepcopy(estado_inicial)\n",
    "    if game.finished() == 0 and game.possible_plays() != []:\n",
    "        turno1.append(accion(i))"
   ]
  },
  {
   "cell_type": "code",
   "execution_count": 4,
   "id": "819c692b",
   "metadata": {},
   "outputs": [
    {
     "data": {
      "text/plain": [
       "[[0, 0, 0, 0, 0, 0, 0],\n",
       " [0, 0, 0, 0, 0, 0, 0],\n",
       " [0, 0, 0, 0, 0, 0, 0],\n",
       " [0, 0, 0, 0, 0, 0, 0],\n",
       " [0, 0, 0, 0, 0, 0, 0],\n",
       " [1, 0, 0, 0, 0, 0, 0]]"
      ]
     },
     "execution_count": 4,
     "metadata": {},
     "output_type": "execute_result"
    }
   ],
   "source": [
    "turno1[0].get_board()"
   ]
  },
  {
   "cell_type": "code",
   "execution_count": 5,
   "id": "4c0dc27a",
   "metadata": {},
   "outputs": [],
   "source": [
    "if player1:\n",
    "    player1 = False\n",
    "else:\n",
    "    player1 = True"
   ]
  },
  {
   "cell_type": "code",
   "execution_count": 6,
   "id": "412b0d3f",
   "metadata": {},
   "outputs": [],
   "source": [
    "t2=len(turno1)\n",
    "turno2=[]\n",
    "for i in range(0,t2):\n",
    "    game=copy.deepcopy(turno1[i])\n",
    "    if game.finished() == 0 and game.possible_plays() != []:\n",
    "        for j in range(0,7):\n",
    "            game=copy.deepcopy(turno1[i])\n",
    "            turno2.append(accion(j))"
   ]
  },
  {
   "cell_type": "code",
   "execution_count": 7,
   "id": "2236cd6e",
   "metadata": {},
   "outputs": [
    {
     "data": {
      "text/plain": [
       "[[0, 0, 0, 0, 0, 0, 0],\n",
       " [0, 0, 0, 0, 0, 0, 0],\n",
       " [0, 0, 0, 0, 0, 0, 0],\n",
       " [0, 0, 0, 0, 0, 0, 0],\n",
       " [2, 0, 0, 0, 0, 0, 0],\n",
       " [1, 0, 0, 0, 0, 0, 0]]"
      ]
     },
     "execution_count": 7,
     "metadata": {},
     "output_type": "execute_result"
    }
   ],
   "source": [
    "turno2[0].get_board()"
   ]
  },
  {
   "cell_type": "code",
   "execution_count": 8,
   "id": "b17aa234",
   "metadata": {},
   "outputs": [],
   "source": [
    "if player1:\n",
    "    player1 = False\n",
    "else:\n",
    "    player1 = True"
   ]
  },
  {
   "cell_type": "code",
   "execution_count": 9,
   "id": "617f6950",
   "metadata": {},
   "outputs": [],
   "source": [
    "t2=len(turno2)\n",
    "turno3=[]\n",
    "for i in range(0,t2):\n",
    "    game=copy.deepcopy(turno2[i])\n",
    "    if game.finished() == 0 and game.possible_plays() != []:   \n",
    "        for j in range(0,7):\n",
    "            game=copy.deepcopy(turno2[i])\n",
    "            turno3.append(accion(j))"
   ]
  },
  {
   "cell_type": "code",
   "execution_count": 10,
   "id": "30cfcc7d",
   "metadata": {},
   "outputs": [
    {
     "data": {
      "text/plain": [
       "[[0, 0, 0, 0, 0, 0, 0],\n",
       " [0, 0, 0, 0, 0, 0, 0],\n",
       " [0, 0, 0, 0, 0, 0, 0],\n",
       " [1, 0, 0, 0, 0, 0, 0],\n",
       " [2, 0, 0, 0, 0, 0, 0],\n",
       " [1, 0, 0, 0, 0, 0, 0]]"
      ]
     },
     "execution_count": 10,
     "metadata": {},
     "output_type": "execute_result"
    }
   ],
   "source": [
    "turno3[0].get_board()"
   ]
  },
  {
   "cell_type": "code",
   "execution_count": 11,
   "id": "64934d09",
   "metadata": {},
   "outputs": [],
   "source": [
    "if player1:\n",
    "    player1 = False\n",
    "else:\n",
    "    player1 = True"
   ]
  },
  {
   "cell_type": "code",
   "execution_count": 12,
   "id": "fb269abd",
   "metadata": {},
   "outputs": [],
   "source": [
    "t3=len(turno3)\n",
    "turno4=[]\n",
    "for i in range(0,t3):\n",
    "    game=copy.deepcopy(turno3[i])\n",
    "    if game.finished() == 0 and game.possible_plays() != []:\n",
    "        for j in range(0,7):\n",
    "            game=copy.deepcopy(turno3[i])\n",
    "            turno4.append(accion(j))"
   ]
  },
  {
   "cell_type": "code",
   "execution_count": 13,
   "id": "61f629a4",
   "metadata": {},
   "outputs": [
    {
     "data": {
      "text/plain": [
       "[[0, 0, 0, 0, 0, 0, 0],\n",
       " [0, 0, 0, 0, 0, 0, 0],\n",
       " [2, 0, 0, 0, 0, 0, 0],\n",
       " [1, 0, 0, 0, 0, 0, 0],\n",
       " [2, 0, 0, 0, 0, 0, 0],\n",
       " [1, 0, 0, 0, 0, 0, 0]]"
      ]
     },
     "execution_count": 13,
     "metadata": {},
     "output_type": "execute_result"
    }
   ],
   "source": [
    "turno4[0].get_board()"
   ]
  },
  {
   "cell_type": "code",
   "execution_count": 6,
   "id": "23428678",
   "metadata": {},
   "outputs": [
    {
     "name": "stdout",
     "output_type": "stream",
     "text": [
      "    0 1 2 3 4 5 6\n",
      "    _____________\n",
      "0 | 0 0 0 0 0 0 0 \n",
      "1 | 0 0 0 0 0 0 0 \n",
      "2 | 0 0 0 0 0 0 0 \n",
      "3 | 0 0 0 0 0 0 0 \n",
      "4 | 0 0 0 0 0 0 0 \n",
      "5 | 0 0 0 0 0 0 0 \n",
      "\n",
      "player1 make a play: 1\n",
      "\n",
      "    0 1 2 3 4 5 6\n",
      "    _____________\n",
      "0 | 0 0 0 0 0 0 0 \n",
      "1 | 0 0 0 0 0 0 0 \n",
      "2 | 0 0 0 0 0 0 0 \n",
      "3 | 0 0 0 0 0 0 0 \n",
      "4 | 0 0 0 0 0 0 0 \n",
      "5 | 0 1 0 0 0 0 0 \n",
      "\n",
      "player2 make a play: "
     ]
    },
    {
     "ename": "KeyboardInterrupt",
     "evalue": "Interrupted by user",
     "output_type": "error",
     "traceback": [
      "\u001b[1;31m---------------------------------------------------------------------------\u001b[0m",
      "\u001b[1;31mKeyboardInterrupt\u001b[0m                         Traceback (most recent call last)",
      "\u001b[1;32m~\\proyectpIA\\connect4-IA23-1\\src\\Main.py\u001b[0m in \u001b[0;36m<module>\u001b[1;34m\u001b[0m\n\u001b[0;32m     31\u001b[0m         \u001b[0mprint\u001b[0m\u001b[1;33m(\u001b[0m\u001b[1;34m\"2\"\u001b[0m\u001b[1;33m,\u001b[0m \u001b[0mend\u001b[0m\u001b[1;33m=\u001b[0m\u001b[1;34m\"\"\u001b[0m\u001b[1;33m)\u001b[0m\u001b[1;33m\u001b[0m\u001b[1;33m\u001b[0m\u001b[0m\n\u001b[0;32m     32\u001b[0m     \u001b[0mprint\u001b[0m\u001b[1;33m(\u001b[0m\u001b[1;34m\" make a play: \"\u001b[0m\u001b[1;33m,\u001b[0m \u001b[0mend\u001b[0m\u001b[1;33m=\u001b[0m\u001b[1;34m\"\"\u001b[0m\u001b[1;33m)\u001b[0m\u001b[1;33m\u001b[0m\u001b[1;33m\u001b[0m\u001b[0m\n\u001b[1;32m---> 33\u001b[1;33m     \u001b[0mplay\u001b[0m \u001b[1;33m=\u001b[0m \u001b[0muser_input\u001b[0m\u001b[1;33m(\u001b[0m\u001b[1;33m)\u001b[0m\u001b[1;33m\u001b[0m\u001b[1;33m\u001b[0m\u001b[0m\n\u001b[0m\u001b[0;32m     34\u001b[0m     \u001b[1;32mif\u001b[0m \u001b[0mgame\u001b[0m\u001b[1;33m.\u001b[0m\u001b[0mmake_play\u001b[0m\u001b[1;33m(\u001b[0m\u001b[0mplayer1\u001b[0m\u001b[1;33m,\u001b[0m \u001b[0mint\u001b[0m\u001b[1;33m(\u001b[0m\u001b[0mplay\u001b[0m\u001b[1;33m)\u001b[0m\u001b[1;33m)\u001b[0m\u001b[1;33m:\u001b[0m\u001b[1;33m\u001b[0m\u001b[1;33m\u001b[0m\u001b[0m\n\u001b[0;32m     35\u001b[0m         \u001b[0mprint\u001b[0m\u001b[1;33m(\u001b[0m\u001b[1;34m\" Invalid play!!!!!!!!\\n\"\u001b[0m\u001b[1;33m)\u001b[0m\u001b[1;33m\u001b[0m\u001b[1;33m\u001b[0m\u001b[0m\n",
      "\u001b[1;32m~\\proyectpIA\\connect4-IA23-1\\src\\Main.py\u001b[0m in \u001b[0;36muser_input\u001b[1;34m()\u001b[0m\n\u001b[0;32m      6\u001b[0m     \u001b[0mnot_finished\u001b[0m \u001b[1;33m=\u001b[0m \u001b[1;32mTrue\u001b[0m\u001b[1;33m\u001b[0m\u001b[1;33m\u001b[0m\u001b[0m\n\u001b[0;32m      7\u001b[0m     \u001b[1;32mwhile\u001b[0m \u001b[0mnot_finished\u001b[0m\u001b[1;33m:\u001b[0m\u001b[1;33m\u001b[0m\u001b[1;33m\u001b[0m\u001b[0m\n\u001b[1;32m----> 8\u001b[1;33m         \u001b[0musr_input\u001b[0m \u001b[1;33m=\u001b[0m \u001b[0minput\u001b[0m\u001b[1;33m(\u001b[0m\u001b[1;33m)\u001b[0m\u001b[1;33m\u001b[0m\u001b[1;33m\u001b[0m\u001b[0m\n\u001b[0m\u001b[0;32m      9\u001b[0m         \u001b[0musr_int\u001b[0m \u001b[1;33m=\u001b[0m \u001b[1;33m-\u001b[0m\u001b[1;36m1\u001b[0m\u001b[1;33m\u001b[0m\u001b[1;33m\u001b[0m\u001b[0m\n\u001b[0;32m     10\u001b[0m         \u001b[1;32mtry\u001b[0m\u001b[1;33m:\u001b[0m\u001b[1;33m\u001b[0m\u001b[1;33m\u001b[0m\u001b[0m\n",
      "\u001b[1;32mC:\\ProgramData\\Anaconda3\\lib\\site-packages\\ipykernel\\kernelbase.py\u001b[0m in \u001b[0;36mraw_input\u001b[1;34m(self, prompt)\u001b[0m\n\u001b[0;32m   1175\u001b[0m                 \u001b[1;34m\"raw_input was called, but this frontend does not support input requests.\"\u001b[0m\u001b[1;33m\u001b[0m\u001b[1;33m\u001b[0m\u001b[0m\n\u001b[0;32m   1176\u001b[0m             )\n\u001b[1;32m-> 1177\u001b[1;33m         return self._input_request(\n\u001b[0m\u001b[0;32m   1178\u001b[0m             \u001b[0mstr\u001b[0m\u001b[1;33m(\u001b[0m\u001b[0mprompt\u001b[0m\u001b[1;33m)\u001b[0m\u001b[1;33m,\u001b[0m\u001b[1;33m\u001b[0m\u001b[1;33m\u001b[0m\u001b[0m\n\u001b[0;32m   1179\u001b[0m             \u001b[0mself\u001b[0m\u001b[1;33m.\u001b[0m\u001b[0m_parent_ident\u001b[0m\u001b[1;33m[\u001b[0m\u001b[1;34m\"shell\"\u001b[0m\u001b[1;33m]\u001b[0m\u001b[1;33m,\u001b[0m\u001b[1;33m\u001b[0m\u001b[1;33m\u001b[0m\u001b[0m\n",
      "\u001b[1;32mC:\\ProgramData\\Anaconda3\\lib\\site-packages\\ipykernel\\kernelbase.py\u001b[0m in \u001b[0;36m_input_request\u001b[1;34m(self, prompt, ident, parent, password)\u001b[0m\n\u001b[0;32m   1217\u001b[0m             \u001b[1;32mexcept\u001b[0m \u001b[0mKeyboardInterrupt\u001b[0m\u001b[1;33m:\u001b[0m\u001b[1;33m\u001b[0m\u001b[1;33m\u001b[0m\u001b[0m\n\u001b[0;32m   1218\u001b[0m                 \u001b[1;31m# re-raise KeyboardInterrupt, to truncate traceback\u001b[0m\u001b[1;33m\u001b[0m\u001b[1;33m\u001b[0m\u001b[0m\n\u001b[1;32m-> 1219\u001b[1;33m                 \u001b[1;32mraise\u001b[0m \u001b[0mKeyboardInterrupt\u001b[0m\u001b[1;33m(\u001b[0m\u001b[1;34m\"Interrupted by user\"\u001b[0m\u001b[1;33m)\u001b[0m \u001b[1;32mfrom\u001b[0m \u001b[1;32mNone\u001b[0m\u001b[1;33m\u001b[0m\u001b[1;33m\u001b[0m\u001b[0m\n\u001b[0m\u001b[0;32m   1220\u001b[0m             \u001b[1;32mexcept\u001b[0m \u001b[0mException\u001b[0m\u001b[1;33m:\u001b[0m\u001b[1;33m\u001b[0m\u001b[1;33m\u001b[0m\u001b[0m\n\u001b[0;32m   1221\u001b[0m                 \u001b[0mself\u001b[0m\u001b[1;33m.\u001b[0m\u001b[0mlog\u001b[0m\u001b[1;33m.\u001b[0m\u001b[0mwarning\u001b[0m\u001b[1;33m(\u001b[0m\u001b[1;34m\"Invalid Message:\"\u001b[0m\u001b[1;33m,\u001b[0m \u001b[0mexc_info\u001b[0m\u001b[1;33m=\u001b[0m\u001b[1;32mTrue\u001b[0m\u001b[1;33m)\u001b[0m\u001b[1;33m\u001b[0m\u001b[1;33m\u001b[0m\u001b[0m\n",
      "\u001b[1;31mKeyboardInterrupt\u001b[0m: Interrupted by user"
     ]
    }
   ],
   "source": [
    "run Main.py"
   ]
  },
  {
   "cell_type": "code",
   "execution_count": 7,
   "id": "5b3858f7",
   "metadata": {},
   "outputs": [
    {
     "name": "stdout",
     "output_type": "stream",
     "text": [
      "    0 1 2 3 4 5 6\n",
      "    _____________\n",
      "0 | 0 0 0 0 0 0 0 \n",
      "1 | 0 0 0 0 0 0 0 \n",
      "2 | 0 0 0 0 0 0 0 \n",
      "3 | 0 0 0 0 0 0 0 \n",
      "4 | 0 0 0 2 0 0 0 \n",
      "5 | 0 0 0 1 1 0 0 \n",
      "\n",
      "player: 1, height: 0, heuristic: 1.7783444500000003\n",
      "\n",
      "\n",
      "---------------------------------------------------\n",
      "    0 1 2 3 4 5 6\n",
      "    _____________\n",
      "0 | 0 0 0 0 0 0 0 \n",
      "1 | 0 0 0 0 0 0 0 \n",
      "2 | 0 0 0 0 0 0 0 \n",
      "3 | 0 0 0 0 0 0 0 \n",
      "4 | 0 0 0 2 0 0 0 \n",
      "5 | 2 0 0 1 1 0 0 \n",
      "\n",
      "player: 2, height: 1, heuristic: -36.13720000000001\n",
      "\n",
      "\n",
      "    0 1 2 3 4 5 6\n",
      "    _____________\n",
      "0 | 0 0 0 0 0 0 0 \n",
      "1 | 0 0 0 0 0 0 0 \n",
      "2 | 0 0 0 0 0 0 0 \n",
      "3 | 0 0 0 0 0 0 0 \n",
      "4 | 0 0 0 2 0 0 0 \n",
      "5 | 0 2 0 1 1 0 0 \n",
      "\n",
      "player: 2, height: 1, heuristic: -24.136547\n",
      "\n",
      "\n",
      "    0 1 2 3 4 5 6\n",
      "    _____________\n",
      "0 | 0 0 0 0 0 0 0 \n",
      "1 | 0 0 0 0 0 0 0 \n",
      "2 | 0 0 0 0 0 0 0 \n",
      "3 | 0 0 0 0 0 0 0 \n",
      "4 | 0 0 0 2 0 0 0 \n",
      "5 | 0 0 2 1 1 0 0 \n",
      "\n",
      "player: 2, height: 1, heuristic: -11.086640000000003\n",
      "\n",
      "\n",
      "    0 1 2 3 4 5 6\n",
      "    _____________\n",
      "0 | 0 0 0 0 0 0 0 \n",
      "1 | 0 0 0 0 0 0 0 \n",
      "2 | 0 0 0 0 0 0 0 \n",
      "3 | 0 0 0 2 0 0 0 \n",
      "4 | 0 0 0 2 0 0 0 \n",
      "5 | 0 0 0 1 1 0 0 \n",
      "\n",
      "player: 2, height: 1, heuristic: -35.134688000000004\n",
      "\n",
      "\n",
      "    0 1 2 3 4 5 6\n",
      "    _____________\n",
      "0 | 0 0 0 0 0 0 0 \n",
      "1 | 0 0 0 0 0 0 0 \n",
      "2 | 0 0 0 0 0 0 0 \n",
      "3 | 0 0 0 0 0 0 0 \n",
      "4 | 0 0 0 2 2 0 0 \n",
      "5 | 0 0 0 1 1 0 0 \n",
      "\n",
      "player: 2, height: 1, heuristic: -35.115588\n",
      "\n",
      "\n",
      "    0 1 2 3 4 5 6\n",
      "    _____________\n",
      "0 | 0 0 0 0 0 0 0 \n",
      "1 | 0 0 0 0 0 0 0 \n",
      "2 | 0 0 0 0 0 0 0 \n",
      "3 | 0 0 0 0 0 0 0 \n",
      "4 | 0 0 0 2 0 0 0 \n",
      "5 | 0 0 0 1 1 2 0 \n",
      "\n",
      "player: 2, height: 1, heuristic: -12.086534000000002\n",
      "\n",
      "\n",
      "    0 1 2 3 4 5 6\n",
      "    _____________\n",
      "0 | 0 0 0 0 0 0 0 \n",
      "1 | 0 0 0 0 0 0 0 \n",
      "2 | 0 0 0 0 0 0 0 \n",
      "3 | 0 0 0 0 0 0 0 \n",
      "4 | 0 0 0 2 0 0 0 \n",
      "5 | 0 0 0 1 1 0 2 \n",
      "\n",
      "player: 2, height: 1, heuristic: -24.137248000000003\n",
      "\n",
      "\n"
     ]
    }
   ],
   "source": [
    "run Node.py"
   ]
  },
  {
   "cell_type": "code",
   "execution_count": null,
   "id": "c78de5bf",
   "metadata": {},
   "outputs": [],
   "source": []
  }
 ],
 "metadata": {
  "kernelspec": {
   "display_name": "Python 3 (ipykernel)",
   "language": "python",
   "name": "python3"
  },
  "language_info": {
   "codemirror_mode": {
    "name": "ipython",
    "version": 3
   },
   "file_extension": ".py",
   "mimetype": "text/x-python",
   "name": "python",
   "nbconvert_exporter": "python",
   "pygments_lexer": "ipython3",
   "version": "3.9.13"
  }
 },
 "nbformat": 4,
 "nbformat_minor": 5
}
