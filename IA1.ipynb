{
 "cells": [
  {
   "cell_type": "code",
   "execution_count": 1,
   "id": "a12d502c",
   "metadata": {},
   "outputs": [],
   "source": [
    "import copy\n",
    "#estado inicial\n",
    "s_0=[[1,0,2],\n",
    "     [6,3,4],\n",
    "     [7,5,8]]\n",
    "#estado final\n",
    "s_f=[[0,1,2],\n",
    "     [3,4,5],\n",
    "     [6,7,8]]"
   ]
  },
  {
   "cell_type": "code",
   "execution_count": 2,
   "id": "b04d7227",
   "metadata": {
    "scrolled": true
   },
   "outputs": [
    {
     "data": {
      "text/plain": [
       "[([0, 1], 'down', 3), ([0, 1], 'right', 2), ([0, 1], 'left', 1)]"
      ]
     },
     "execution_count": 2,
     "metadata": {},
     "output_type": "execute_result"
    }
   ],
   "source": [
    "#acciones\n",
    "#las acciones se definieron a partir de a donde se puede mover el espacio y por que pieza\n",
    "#En donde se representa de la siguiente manera (lugar donde se encuentra el espacio, accion que toma, pieza por la que se cambia)\n",
    "#Ejemplo ([0,1],\"down\",3) \n",
    "def accion(estados):\n",
    "    if 0 in estados[0]:\n",
    "        if estados[0][0]==0:\n",
    "            return [([0,0],\"down\",estados[1][0]),([0,0],\"right\",estados[0][1])]\n",
    "        elif estados[0][1]==0:\n",
    "            return[([0,1],\"down\",estados[1][1]),([0,1],\"right\",estados[0][2]),([0,1],\"left\",estados[0][0])]\n",
    "        else:\n",
    "            return[([0,2],\"down\",estados[1][2]),([0,2],\"left\",estados[0][1])]\n",
    "    elif 0 in estados[1]:\n",
    "        if estados[1][0]==0:\n",
    "            return[([1,0],\"up\",estados[0][0]),([1,0],\"down\",estados[2][0]),([1,0],\"right\",estados[1][1])]\n",
    "        elif estados[1][1]==0:\n",
    "            return[([1,1],\"up\",estados[0][1]),([1,1],\"down\",estados[2][1]),([1,1],\"right\",estados[1][2]),([1,1],\"left\",estados[1][0])]\n",
    "        else: \n",
    "            return[([1,2],\"up\",estados[0][2]),([1,2],\"down\",estados[2][2]),([1,2],\"left\",estados[1][1])]\n",
    "    else:\n",
    "        if estados[2][0]==0:\n",
    "            return [([2,0],\"up\",estados[1][0]),([2,0],\"right\",estados[2][1])]\n",
    "        elif estados[2][1]==0:\n",
    "            return[([2,1],\"up\",estados[1][1]),([2,1],\"right\",estados[2][2]),([2,1],\"left\",estados[2][0])]\n",
    "        else:\n",
    "            return[([2,2],\"up\",estados[1][2]),([2,2],\"left\",estados[2][1])]\n",
    "\n",
    "accion(s_0)        "
   ]
  },
  {
   "cell_type": "code",
   "execution_count": 3,
   "id": "9309947a",
   "metadata": {},
   "outputs": [
    {
     "data": {
      "text/plain": [
       "[[1, 3, 2], [6, 0, 4], [7, 5, 8]]"
      ]
     },
     "execution_count": 3,
     "metadata": {},
     "output_type": "execute_result"
    }
   ],
   "source": [
    "#modelo de transicion\n",
    "def movimiento(estado,accion):\n",
    "    #conocer la pieza que vamos a mover \n",
    "    pieza_mover=accion[2]\n",
    "    #saber donde esta la pieza por la que  vamos a mover el estado\n",
    "    if accion[1]==\"down\":\n",
    "        lugar_pieza=[accion[0][0]+1,accion[0][1]]\n",
    "    elif accion[1]==\"up\":\n",
    "        lugar_pieza=[accion[0][0]-1,accion[0][1]]\n",
    "    elif accion[1]==\"right\":\n",
    "        lugar_pieza=[accion[0][0],accion[0][1]+1]\n",
    "    else:\n",
    "        lugar_pieza=[accion[0][0],accion[0][1]-1]\n",
    "        #crear nuevo estado\n",
    "    nuevo_estado=copy.deepcopy(estado)   \n",
    "    nuevo_estado[lugar_pieza[0]][lugar_pieza[1]]=0 #remplazo por el espacio\n",
    "    nuevo_estado[accion[0][0]][accion[0][1]]=pieza_mover#remplazo por la pieza\n",
    "    return nuevo_estado \n",
    "movimiento(s_0,accion(s_0)[0])"
   ]
  },
  {
   "cell_type": "code",
   "execution_count": 4,
   "id": "c449a5ec",
   "metadata": {},
   "outputs": [],
   "source": [
    "#clase nodos\n",
    "#Esta clase nos ayudara a saber el estado, los padres, la acción y el costo\n",
    "class Node():\n",
    "    def __init__(self):\n",
    "        self.state =None\n",
    "        self.parent = None\n",
    "        self.action = None\n",
    "        self.cost = 0"
   ]
  },
  {
   "cell_type": "code",
   "execution_count": 5,
   "id": "528b9d35",
   "metadata": {},
   "outputs": [],
   "source": [
    "#expancion de nodos\n",
    "def expande(nodo):\n",
    "    estado=nodo.state\n",
    "    for a in accion(estado):\n",
    "        #conocer el nuevo estado\n",
    "        nuevo_estado=movimiento(estado,a)\n",
    "        costo=nodo.cost+1 #aumentar el costo por la accion tomada\n",
    "        # crear el nuevo nodo\n",
    "        new_nodo=Node()\n",
    "        new_nodo.state=nuevo_estado\n",
    "        new_nodo.parent=nodo\n",
    "        new_nodo.action=a[1]\n",
    "        new_nodo.cost=costo\n",
    "        yield new_nodo\n",
    "\n",
    "#pruebas        \n",
    "#prueba_nodo=Node()\n",
    "#prueba_nodo.state=s_0\n",
    "\n",
    "#list(expande(prueba_nodo))[2].cost"
   ]
  },
  {
   "cell_type": "code",
   "execution_count": 6,
   "id": "2a2496cd",
   "metadata": {},
   "outputs": [
    {
     "data": {
      "text/plain": [
       "[[0, 1, 2], [3, 4, 5], [6, 7, 8]]"
      ]
     },
     "execution_count": 6,
     "metadata": {},
     "output_type": "execute_result"
    }
   ],
   "source": [
    "#Busqueda\n",
    "#En esta definicion de busqueda todo depende de como definamos nuestra frontera\n",
    "estado_inicial=Node()\n",
    "estado_inicial.state=s_0\n",
    "nodos=[]#nodos tocados\n",
    "frontera=[estado_inicial]\n",
    "reach={str(estado_inicial):estado_inicial}#nodos alcanzados\n",
    "def busqueda(estado):\n",
    "    while len(frontera)>0:\n",
    "        x=sorted(frontera,key=lambda node: node.cost)#ordena la frontera de menor a mayor\n",
    "        nodo=x.pop(0)#saca el primer elemento \n",
    "        \n",
    "        nodos.append(nodo)#agregamos el nodo a la lista nodos\n",
    "        #eliminamos el elemento que sacamos de x de la frontera\n",
    "        for i in frontera:\n",
    "            if nodo==i:\n",
    "                frontera.remove(nodo)\n",
    "        #revisa si ya llegamos a la meta        \n",
    "        if nodo.state==s_f:\n",
    "            #break\n",
    "            return nodos[-1].state\n",
    "        #expandimos el nodo y revisamos si no esta en reach(alcanzados) para asi no caer en un ciclo y agregarlos a la frontera\n",
    "        for hijos in expande(nodo):\n",
    "            estado_hijo=hijos.state\n",
    "            if str(estado_hijo) not in reach.keys():   \n",
    "                reach[str(estado_hijo)]=hijos\n",
    "                frontera.append(hijos)   \n",
    "busqueda(estado_inicial)    "
   ]
  },
  {
   "cell_type": "code",
   "execution_count": 7,
   "id": "4fb547c3",
   "metadata": {},
   "outputs": [],
   "source": [
    "#Esta parte del programa nos regresara el camino que se tomo para llegar a la solucion\n",
    "padre=nodos[-1].parent#saber cual es el nodo padre de la solucion\n",
    "nodos_tomados=[nodos[-1],padre]#aqui se guardara los nodos tomados\n",
    "#nodo_padre=[]\n",
    "def camino(nodos):\n",
    "    while estado_inicial not in nodos_tomados:\n",
    "        nodo_padre=nodos_tomados[-1].parent#aqui obtenemos el padre de cada nodo\n",
    "        nodos_tomados.append(nodo_padre)\n",
    "camino(nodos)        "
   ]
  },
  {
   "cell_type": "code",
   "execution_count": 49,
   "id": "da09239a",
   "metadata": {
    "scrolled": false
   },
   "outputs": [
    {
     "name": "stdout",
     "output_type": "stream",
     "text": [
      "0\n",
      "[1, 0, 2]\n",
      "[6, 3, 4]\n",
      "[7, 5, 8]\n",
      "1\n",
      "[1, 3, 2]\n",
      "[6, 0, 4]\n",
      "[7, 5, 8]\n",
      "2\n",
      "[1, 3, 2]\n",
      "[6, 5, 4]\n",
      "[7, 0, 8]\n",
      "3\n",
      "[1, 3, 2]\n",
      "[6, 5, 4]\n",
      "[7, 8, 0]\n",
      "4\n",
      "[1, 3, 2]\n",
      "[6, 5, 0]\n",
      "[7, 8, 4]\n",
      "5\n",
      "[1, 3, 2]\n",
      "[6, 0, 5]\n",
      "[7, 8, 4]\n",
      "6\n",
      "[1, 0, 2]\n",
      "[6, 3, 5]\n",
      "[7, 8, 4]\n",
      "7\n",
      "[1, 2, 0]\n",
      "[6, 3, 5]\n",
      "[7, 8, 4]\n",
      "8\n",
      "[1, 2, 5]\n",
      "[6, 3, 0]\n",
      "[7, 8, 4]\n",
      "9\n",
      "[1, 2, 5]\n",
      "[6, 3, 4]\n",
      "[7, 8, 0]\n",
      "10\n",
      "[1, 2, 5]\n",
      "[6, 3, 4]\n",
      "[7, 0, 8]\n",
      "11\n",
      "[1, 2, 5]\n",
      "[6, 3, 4]\n",
      "[0, 7, 8]\n",
      "12\n",
      "[1, 2, 5]\n",
      "[0, 3, 4]\n",
      "[6, 7, 8]\n",
      "13\n",
      "[1, 2, 5]\n",
      "[3, 0, 4]\n",
      "[6, 7, 8]\n",
      "14\n",
      "[1, 2, 5]\n",
      "[3, 4, 0]\n",
      "[6, 7, 8]\n",
      "15\n",
      "[1, 2, 0]\n",
      "[3, 4, 5]\n",
      "[6, 7, 8]\n",
      "16\n",
      "[1, 0, 2]\n",
      "[3, 4, 5]\n",
      "[6, 7, 8]\n",
      "17\n",
      "[0, 1, 2]\n",
      "[3, 4, 5]\n",
      "[6, 7, 8]\n"
     ]
    }
   ],
   "source": [
    "camino=sorted(nodos_tomados,key=lambda node: node.cost)#organizamos el camino de acuerdo a los costos para que se impriman en orden\n",
    "k=0\n",
    "#Ahora vamos a imprimir de forma ordenada el camino que toma para llegar a la solución\n",
    "for i in camino:\n",
    "    j=0\n",
    "    print(k)\n",
    "    while j<3:\n",
    "        print( i.state[j])\n",
    "        j+=1\n",
    "    k+=1    "
   ]
  },
  {
   "cell_type": "code",
   "execution_count": 8,
   "id": "8c387019",
   "metadata": {},
   "outputs": [
    {
     "data": {
      "text/plain": [
       "13000"
      ]
     },
     "execution_count": 8,
     "metadata": {},
     "output_type": "execute_result"
    }
   ],
   "source": [
    "len(nodos)"
   ]
  }
 ],
 "metadata": {
  "kernelspec": {
   "display_name": "Python 3 (ipykernel)",
   "language": "python",
   "name": "python3"
  },
  "language_info": {
   "codemirror_mode": {
    "name": "ipython",
    "version": 3
   },
   "file_extension": ".py",
   "mimetype": "text/x-python",
   "name": "python",
   "nbconvert_exporter": "python",
   "pygments_lexer": "ipython3",
   "version": "3.9.13"
  }
 },
 "nbformat": 4,
 "nbformat_minor": 5
}
